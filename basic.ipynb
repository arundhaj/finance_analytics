{
 "cells": [
  {
   "cell_type": "code",
   "execution_count": 1,
   "metadata": {},
   "outputs": [],
   "source": [
    "import psycopg2 as pg\n",
    "import pandas as pd\n",
    "import matplotlib.pyplot as plt\n",
    "import seaborn as sns\n",
    "import yaml\n",
    "%matplotlib inline"
   ]
  },
  {
   "cell_type": "code",
   "execution_count": 2,
   "metadata": {},
   "outputs": [],
   "source": [
    "stream = open('config.yaml', 'r')\n",
    "conf = yaml.load(stream)"
   ]
  },
  {
   "cell_type": "code",
   "execution_count": 3,
   "metadata": {},
   "outputs": [],
   "source": [
    "conn = pg.connect(database=conf['database'], user=conf['username'], password=conf['password'])"
   ]
  },
  {
   "cell_type": "code",
   "execution_count": 4,
   "metadata": {
    "collapsed": true
   },
   "outputs": [],
   "source": [
    "sql_query = \"SELECT * FROM finance_app_nsestockquote WHERE symbol = 'ICICIBANK'\"\n",
    "df = pd.read_sql_query(sql_query, conn)"
   ]
  },
  {
   "cell_type": "code",
   "execution_count": 5,
   "metadata": {},
   "outputs": [
    {
     "data": {
      "text/html": [
       "<div>\n",
       "<table border=\"1\" class=\"dataframe\">\n",
       "  <thead>\n",
       "    <tr style=\"text-align: right;\">\n",
       "      <th></th>\n",
       "      <th>id</th>\n",
       "      <th>symbol</th>\n",
       "      <th>scriptdate</th>\n",
       "      <th>series</th>\n",
       "      <th>open</th>\n",
       "      <th>high</th>\n",
       "      <th>low</th>\n",
       "      <th>close</th>\n",
       "      <th>totaltradeqty</th>\n",
       "      <th>totaltrades</th>\n",
       "      <th>isin</th>\n",
       "      <th>last</th>\n",
       "      <th>prevclose</th>\n",
       "      <th>totaltradevalue</th>\n",
       "    </tr>\n",
       "  </thead>\n",
       "  <tbody>\n",
       "    <tr>\n",
       "      <th>0</th>\n",
       "      <td>1148</td>\n",
       "      <td>ICICIBANK</td>\n",
       "      <td>2017-01-02 00:00:00+00:00</td>\n",
       "      <td>EQ</td>\n",
       "      <td>256.30</td>\n",
       "      <td>256.30</td>\n",
       "      <td>248.1</td>\n",
       "      <td>251.95</td>\n",
       "      <td>9458500.0</td>\n",
       "      <td>61109.0</td>\n",
       "      <td>INE090A01021</td>\n",
       "      <td>252.25</td>\n",
       "      <td>255.30</td>\n",
       "      <td>2.378417e+09</td>\n",
       "    </tr>\n",
       "    <tr>\n",
       "      <th>1</th>\n",
       "      <td>2838</td>\n",
       "      <td>ICICIBANK</td>\n",
       "      <td>2017-01-03 00:00:00+00:00</td>\n",
       "      <td>EQ</td>\n",
       "      <td>252.10</td>\n",
       "      <td>255.40</td>\n",
       "      <td>249.3</td>\n",
       "      <td>254.40</td>\n",
       "      <td>9306097.0</td>\n",
       "      <td>51222.0</td>\n",
       "      <td>INE090A01021</td>\n",
       "      <td>254.95</td>\n",
       "      <td>251.95</td>\n",
       "      <td>2.359266e+09</td>\n",
       "    </tr>\n",
       "    <tr>\n",
       "      <th>2</th>\n",
       "      <td>4540</td>\n",
       "      <td>ICICIBANK</td>\n",
       "      <td>2017-01-04 00:00:00+00:00</td>\n",
       "      <td>EQ</td>\n",
       "      <td>254.25</td>\n",
       "      <td>255.75</td>\n",
       "      <td>250.4</td>\n",
       "      <td>251.10</td>\n",
       "      <td>6273801.0</td>\n",
       "      <td>44992.0</td>\n",
       "      <td>INE090A01021</td>\n",
       "      <td>250.95</td>\n",
       "      <td>254.40</td>\n",
       "      <td>1.587528e+09</td>\n",
       "    </tr>\n",
       "    <tr>\n",
       "      <th>3</th>\n",
       "      <td>6227</td>\n",
       "      <td>ICICIBANK</td>\n",
       "      <td>2017-01-05 00:00:00+00:00</td>\n",
       "      <td>EQ</td>\n",
       "      <td>253.20</td>\n",
       "      <td>258.50</td>\n",
       "      <td>252.2</td>\n",
       "      <td>257.25</td>\n",
       "      <td>12573335.0</td>\n",
       "      <td>98021.0</td>\n",
       "      <td>INE090A01021</td>\n",
       "      <td>257.40</td>\n",
       "      <td>251.10</td>\n",
       "      <td>3.219595e+09</td>\n",
       "    </tr>\n",
       "    <tr>\n",
       "      <th>4</th>\n",
       "      <td>7928</td>\n",
       "      <td>ICICIBANK</td>\n",
       "      <td>2017-01-06 00:00:00+00:00</td>\n",
       "      <td>EQ</td>\n",
       "      <td>258.25</td>\n",
       "      <td>261.40</td>\n",
       "      <td>257.2</td>\n",
       "      <td>258.15</td>\n",
       "      <td>8231949.0</td>\n",
       "      <td>56518.0</td>\n",
       "      <td>INE090A01021</td>\n",
       "      <td>258.10</td>\n",
       "      <td>257.25</td>\n",
       "      <td>2.133131e+09</td>\n",
       "    </tr>\n",
       "  </tbody>\n",
       "</table>\n",
       "</div>"
      ],
      "text/plain": [
       "     id     symbol                scriptdate series    open    high    low  \\\n",
       "0  1148  ICICIBANK 2017-01-02 00:00:00+00:00     EQ  256.30  256.30  248.1   \n",
       "1  2838  ICICIBANK 2017-01-03 00:00:00+00:00     EQ  252.10  255.40  249.3   \n",
       "2  4540  ICICIBANK 2017-01-04 00:00:00+00:00     EQ  254.25  255.75  250.4   \n",
       "3  6227  ICICIBANK 2017-01-05 00:00:00+00:00     EQ  253.20  258.50  252.2   \n",
       "4  7928  ICICIBANK 2017-01-06 00:00:00+00:00     EQ  258.25  261.40  257.2   \n",
       "\n",
       "    close  totaltradeqty  totaltrades          isin    last  prevclose  \\\n",
       "0  251.95      9458500.0      61109.0  INE090A01021  252.25     255.30   \n",
       "1  254.40      9306097.0      51222.0  INE090A01021  254.95     251.95   \n",
       "2  251.10      6273801.0      44992.0  INE090A01021  250.95     254.40   \n",
       "3  257.25     12573335.0      98021.0  INE090A01021  257.40     251.10   \n",
       "4  258.15      8231949.0      56518.0  INE090A01021  258.10     257.25   \n",
       "\n",
       "   totaltradevalue  \n",
       "0     2.378417e+09  \n",
       "1     2.359266e+09  \n",
       "2     1.587528e+09  \n",
       "3     3.219595e+09  \n",
       "4     2.133131e+09  "
      ]
     },
     "execution_count": 5,
     "metadata": {},
     "output_type": "execute_result"
    }
   ],
   "source": [
    "df.head()"
   ]
  },
  {
   "cell_type": "code",
   "execution_count": 6,
   "metadata": {},
   "outputs": [
    {
     "data": {
      "text/plain": [
       "[<matplotlib.lines.Line2D at 0x1e49358>]"
      ]
     },
     "execution_count": 6,
     "metadata": {},
     "output_type": "execute_result"
    },
    {
     "data": {
      "image/png": "[encoded data removed]",
      "text/plain": [
       "<matplotlib.figure.Figure at 0x9b5ddd8>"
      ]
     },
     "metadata": {},
     "output_type": "display_data"
    }
   ],
   "source": [
    "plt.plot(df['scriptdate'], df['close'], marker='o') #, linestyle='none')"
   ]
  }
 ],
 "metadata": {
  "kernelspec": {
   "display_name": "Python 2",
   "language": "python",
   "name": "python2"
  },
  "language_info": {
   "codemirror_mode": {
    "name": "ipython",
    "version": 2
   },
   "file_extension": ".py",
   "mimetype": "text/x-python",
   "name": "python",
   "nbconvert_exporter": "python",
   "pygments_lexer": "ipython2",
   "version": "2.7.12"
  }
 },
 "nbformat": 4,
 "nbformat_minor": 1
}
