{
 "cells": [
  {
   "cell_type": "code",
   "execution_count": 3,
   "metadata": {},
   "outputs": [],
   "source": [
    "import psycopg2 as pg\n",
    "import pandas as pd\n",
    "import matplotlib.pyplot as plt\n",
    "from matplotlib.finance import candlestick2_ochl, candlestick2_ohlc\n",
    "from matplotlib.dates import DateFormatter, WeekdayLocator, DayLocator, MONDAY\n",
    "import seaborn as sns\n",
    "import yaml\n",
    "%matplotlib inline"
   ]
  },
  {
   "cell_type": "code",
   "execution_count": 4,
   "metadata": {
    "collapsed": true
   },
   "outputs": [],
   "source": [
    "stream = open('config.yaml', 'r')\n",
    "conf = yaml.load(stream)"
   ]
  },
  {
   "cell_type": "code",
   "execution_count": 5,
   "metadata": {
    "collapsed": true
   },
   "outputs": [],
   "source": [
    "conn = pg.connect(host=conf['host'], database=conf['database'], user=conf['username'], password=conf['password'])"
   ]
  },
  {
   "cell_type": "markdown",
   "metadata": {},
   "source": [
    "# Individual Stock Analysis"
   ]
  },
  {
   "cell_type": "markdown",
   "metadata": {},
   "source": [
    "## Trend of ICICIBANK"
   ]
  },
  {
   "cell_type": "code",
   "execution_count": 6,
   "metadata": {
    "collapsed": true
   },
   "outputs": [],
   "source": [
    "_ = (\"SELECT * FROM finance_app_nsestockquote \" \n",
    "        \"WHERE symbol = '{0}'\").format('ICICIBANK')\n",
    "\n",
    "icici_bank_df = pd.read_sql_query(_, conn)\n",
    "icici_bank_df.index = icici_bank_df.scriptdate"
   ]
  },
  {
   "cell_type": "code",
   "execution_count": 7,
   "metadata": {},
   "outputs": [
    {
     "data": {
      "text/html": [
       "<div>\n",
       "<table border=\"1\" class=\"dataframe\">\n",
       "  <thead>\n",
       "    <tr style=\"text-align: right;\">\n",
       "      <th></th>\n",
       "      <th>id</th>\n",
       "      <th>symbol</th>\n",
       "      <th>scriptdate</th>\n",
       "      <th>series</th>\n",
       "      <th>open</th>\n",
       "      <th>high</th>\n",
       "      <th>low</th>\n",
       "      <th>close</th>\n",
       "      <th>totaltradeqty</th>\n",
       "      <th>totaltrades</th>\n",
       "      <th>isin</th>\n",
       "      <th>last</th>\n",
       "      <th>prevclose</th>\n",
       "      <th>totaltradevalue</th>\n",
       "    </tr>\n",
       "    <tr>\n",
       "      <th>scriptdate</th>\n",
       "      <th></th>\n",
       "      <th></th>\n",
       "      <th></th>\n",
       "      <th></th>\n",
       "      <th></th>\n",
       "      <th></th>\n",
       "      <th></th>\n",
       "      <th></th>\n",
       "      <th></th>\n",
       "      <th></th>\n",
       "      <th></th>\n",
       "      <th></th>\n",
       "      <th></th>\n",
       "      <th></th>\n",
       "    </tr>\n",
       "  </thead>\n",
       "  <tbody>\n",
       "    <tr>\n",
       "      <th>2017-03-29 00:00:00+00:00</th>\n",
       "      <td>106383</td>\n",
       "      <td>ICICIBANK</td>\n",
       "      <td>2017-03-29 00:00:00+00:00</td>\n",
       "      <td>EQ</td>\n",
       "      <td>278.95</td>\n",
       "      <td>282.80</td>\n",
       "      <td>276.65</td>\n",
       "      <td>282.20</td>\n",
       "      <td>17191675.0</td>\n",
       "      <td>84577.0</td>\n",
       "      <td>INE090A01021</td>\n",
       "      <td>282.30</td>\n",
       "      <td>277.00</td>\n",
       "      <td>4.821411e+09</td>\n",
       "    </tr>\n",
       "    <tr>\n",
       "      <th>2017-03-30 00:00:00+00:00</th>\n",
       "      <td>108133</td>\n",
       "      <td>ICICIBANK</td>\n",
       "      <td>2017-03-30 00:00:00+00:00</td>\n",
       "      <td>EQ</td>\n",
       "      <td>281.25</td>\n",
       "      <td>283.25</td>\n",
       "      <td>279.75</td>\n",
       "      <td>281.35</td>\n",
       "      <td>15039119.0</td>\n",
       "      <td>116354.0</td>\n",
       "      <td>INE090A01021</td>\n",
       "      <td>281.00</td>\n",
       "      <td>282.20</td>\n",
       "      <td>4.234769e+09</td>\n",
       "    </tr>\n",
       "    <tr>\n",
       "      <th>2017-03-31 00:00:00+00:00</th>\n",
       "      <td>109861</td>\n",
       "      <td>ICICIBANK</td>\n",
       "      <td>2017-03-31 00:00:00+00:00</td>\n",
       "      <td>EQ</td>\n",
       "      <td>280.35</td>\n",
       "      <td>282.90</td>\n",
       "      <td>275.70</td>\n",
       "      <td>276.85</td>\n",
       "      <td>17947183.0</td>\n",
       "      <td>79199.0</td>\n",
       "      <td>INE090A01021</td>\n",
       "      <td>276.35</td>\n",
       "      <td>281.35</td>\n",
       "      <td>4.997959e+09</td>\n",
       "    </tr>\n",
       "    <tr>\n",
       "      <th>2017-04-03 00:00:00+00:00</th>\n",
       "      <td>111595</td>\n",
       "      <td>ICICIBANK</td>\n",
       "      <td>2017-04-03 00:00:00+00:00</td>\n",
       "      <td>EQ</td>\n",
       "      <td>278.80</td>\n",
       "      <td>287.40</td>\n",
       "      <td>276.85</td>\n",
       "      <td>286.70</td>\n",
       "      <td>18590561.0</td>\n",
       "      <td>85754.0</td>\n",
       "      <td>INE090A01021</td>\n",
       "      <td>286.65</td>\n",
       "      <td>276.85</td>\n",
       "      <td>5.274436e+09</td>\n",
       "    </tr>\n",
       "    <tr>\n",
       "      <th>2017-04-05 00:00:00+00:00</th>\n",
       "      <td>113364</td>\n",
       "      <td>ICICIBANK</td>\n",
       "      <td>2017-04-05 00:00:00+00:00</td>\n",
       "      <td>EQ</td>\n",
       "      <td>286.50</td>\n",
       "      <td>286.50</td>\n",
       "      <td>282.90</td>\n",
       "      <td>284.85</td>\n",
       "      <td>9608663.0</td>\n",
       "      <td>83961.0</td>\n",
       "      <td>INE090A01021</td>\n",
       "      <td>284.95</td>\n",
       "      <td>286.70</td>\n",
       "      <td>2.736061e+09</td>\n",
       "    </tr>\n",
       "  </tbody>\n",
       "</table>\n",
       "</div>"
      ],
      "text/plain": [
       "                               id     symbol                scriptdate series  \\\n",
       "scriptdate                                                                      \n",
       "2017-03-29 00:00:00+00:00  106383  ICICIBANK 2017-03-29 00:00:00+00:00     EQ   \n",
       "2017-03-30 00:00:00+00:00  108133  ICICIBANK 2017-03-30 00:00:00+00:00     EQ   \n",
       "2017-03-31 00:00:00+00:00  109861  ICICIBANK 2017-03-31 00:00:00+00:00     EQ   \n",
       "2017-04-03 00:00:00+00:00  111595  ICICIBANK 2017-04-03 00:00:00+00:00     EQ   \n",
       "2017-04-05 00:00:00+00:00  113364  ICICIBANK 2017-04-05 00:00:00+00:00     EQ   \n",
       "\n",
       "                             open    high     low   close  totaltradeqty  \\\n",
       "scriptdate                                                                 \n",
       "2017-03-29 00:00:00+00:00  278.95  282.80  276.65  282.20     17191675.0   \n",
       "2017-03-30 00:00:00+00:00  281.25  283.25  279.75  281.35     15039119.0   \n",
       "2017-03-31 00:00:00+00:00  280.35  282.90  275.70  276.85     17947183.0   \n",
       "2017-04-03 00:00:00+00:00  278.80  287.40  276.85  286.70     18590561.0   \n",
       "2017-04-05 00:00:00+00:00  286.50  286.50  282.90  284.85      9608663.0   \n",
       "\n",
       "                           totaltrades          isin    last  prevclose  \\\n",
       "scriptdate                                                                \n",
       "2017-03-29 00:00:00+00:00      84577.0  INE090A01021  282.30     277.00   \n",
       "2017-03-30 00:00:00+00:00     116354.0  INE090A01021  281.00     282.20   \n",
       "2017-03-31 00:00:00+00:00      79199.0  INE090A01021  276.35     281.35   \n",
       "2017-04-03 00:00:00+00:00      85754.0  INE090A01021  286.65     276.85   \n",
       "2017-04-05 00:00:00+00:00      83961.0  INE090A01021  284.95     286.70   \n",
       "\n",
       "                           totaltradevalue  \n",
       "scriptdate                                  \n",
       "2017-03-29 00:00:00+00:00     4.821411e+09  \n",
       "2017-03-30 00:00:00+00:00     4.234769e+09  \n",
       "2017-03-31 00:00:00+00:00     4.997959e+09  \n",
       "2017-04-03 00:00:00+00:00     5.274436e+09  \n",
       "2017-04-05 00:00:00+00:00     2.736061e+09  "
      ]
     },
     "execution_count": 7,
     "metadata": {},
     "output_type": "execute_result"
    }
   ],
   "source": [
    "icici_bank_df.tail()"
   ]
  },
  {
   "cell_type": "code",
   "execution_count": 8,
   "metadata": {},
   "outputs": [
    {
     "data": {
      "text/plain": [
       "[<matplotlib.lines.Line2D at 0x3946d30>]"
      ]
     },
     "execution_count": 8,
     "metadata": {},
     "output_type": "execute_result"
    },
    {
     "data": {
      "image/png": "[encoded data removed]",
      "text/plain": [
       "<matplotlib.figure.Figure at 0x984ddd8>"
      ]
     },
     "metadata": {},
     "output_type": "display_data"
    }
   ],
   "source": [
    "plt.margins(0.2)\n",
    "plt.plot(icici_bank_df['close'], marker='o') #, linestyle='none')"
   ]
  },
  {
   "cell_type": "code",
   "execution_count": 9,
   "metadata": {},
   "outputs": [
    {
     "data": {
      "text/plain": [
       "Index([u'id', u'symbol', u'scriptdate', u'series', u'open', u'high', u'low',\n",
       "       u'close', u'totaltradeqty', u'totaltrades', u'isin', u'last',\n",
       "       u'prevclose', u'totaltradevalue'],\n",
       "      dtype='object')"
      ]
     },
     "execution_count": 9,
     "metadata": {},
     "output_type": "execute_result"
    }
   ],
   "source": [
    "icici_bank_df.columns"
   ]
  },
  {
   "cell_type": "markdown",
   "metadata": {},
   "source": [
    "## OCHL Chart of ICICIBANK"
   ]
  },
  {
   "cell_type": "code",
   "execution_count": 10,
   "metadata": {},
   "outputs": [
    {
     "data": {
      "image/png": "[encoded data removed]",
      "text/plain": [
       "<matplotlib.figure.Figure at 0x9b81908>"
      ]
     },
     "metadata": {},
     "output_type": "display_data"
    }
   ],
   "source": [
    "fig, ax = plt.subplots()\n",
    "#ax.xaxis.set_major_locator(WeekdayLocator(MONDAY))\n",
    "#ax.xaxis.set_minor_locator(DayLocator())\n",
    "#ax.xaxis.set_major_formatter(DateFormatter('%b %d'))\n",
    "candlestick2_ochl(ax, icici_bank_df['open'], icici_bank_df['close'], icici_bank_df['high'], icici_bank_df['low'], width=0.8)\n",
    "#ax.xaxis_date()\n",
    "#ax.autoscale_view()\n",
    "#plt.setp(plt.gca().get_xticklabels(), rotation=45, horizontalalignment='right')\n",
    "plt.show()"
   ]
  },
  {
   "cell_type": "markdown",
   "metadata": {},
   "source": [
    "# Day wise Analysis (2017-04-05)"
   ]
  },
  {
   "cell_type": "markdown",
   "metadata": {},
   "source": [
    "## Total trade quantity"
   ]
  },
  {
   "cell_type": "code",
   "execution_count": 11,
   "metadata": {},
   "outputs": [
    {
     "data": {
      "text/html": [
       "<div>\n",
       "<table border=\"1\" class=\"dataframe\">\n",
       "  <thead>\n",
       "    <tr style=\"text-align: right;\">\n",
       "      <th></th>\n",
       "      <th>totaltradeqty</th>\n",
       "    </tr>\n",
       "  </thead>\n",
       "  <tbody>\n",
       "    <tr>\n",
       "      <th>count</th>\n",
       "      <td>1.766000e+03</td>\n",
       "    </tr>\n",
       "    <tr>\n",
       "      <th>mean</th>\n",
       "      <td>8.630471e+05</td>\n",
       "    </tr>\n",
       "    <tr>\n",
       "      <th>std</th>\n",
       "      <td>2.935251e+06</td>\n",
       "    </tr>\n",
       "    <tr>\n",
       "      <th>min</th>\n",
       "      <td>1.000000e+00</td>\n",
       "    </tr>\n",
       "    <tr>\n",
       "      <th>25%</th>\n",
       "      <td>1.260100e+04</td>\n",
       "    </tr>\n",
       "    <tr>\n",
       "      <th>50%</th>\n",
       "      <td>9.140900e+04</td>\n",
       "    </tr>\n",
       "    <tr>\n",
       "      <th>75%</th>\n",
       "      <td>5.121892e+05</td>\n",
       "    </tr>\n",
       "    <tr>\n",
       "      <th>max</th>\n",
       "      <td>6.732855e+07</td>\n",
       "    </tr>\n",
       "  </tbody>\n",
       "</table>\n",
       "</div>"
      ],
      "text/plain": [
       "       totaltradeqty\n",
       "count   1.766000e+03\n",
       "mean    8.630471e+05\n",
       "std     2.935251e+06\n",
       "min     1.000000e+00\n",
       "25%     1.260100e+04\n",
       "50%     9.140900e+04\n",
       "75%     5.121892e+05\n",
       "max     6.732855e+07"
      ]
     },
     "execution_count": 11,
     "metadata": {},
     "output_type": "execute_result"
    }
   ],
   "source": [
    "# cur.execute(\"insert into %s values (%s, %s)\", [table_name, 10, 20])\n",
    "_ = (\"SELECT symbol, totaltradeqty FROM finance_app_nsestockquote \" \n",
    "        \"WHERE scriptdate = '{0}'\").format('2017-04-05 00:00:00+00:00')\n",
    "\n",
    "total_trade_df = pd.read_sql_query(_, conn)\n",
    "total_trade_df.describe()"
   ]
  },
  {
   "cell_type": "markdown",
   "metadata": {},
   "source": [
    "## Top 10 most traded stocks"
   ]
  },
  {
   "cell_type": "code",
   "execution_count": 12,
   "metadata": {},
   "outputs": [
    {
     "data": {
      "text/html": [
       "<div>\n",
       "<table border=\"1\" class=\"dataframe\">\n",
       "  <thead>\n",
       "    <tr style=\"text-align: right;\">\n",
       "      <th></th>\n",
       "      <th>symbol</th>\n",
       "      <th>totaltradeqty</th>\n",
       "    </tr>\n",
       "  </thead>\n",
       "  <tbody>\n",
       "    <tr>\n",
       "      <th>1662</th>\n",
       "      <td>UNITECH</td>\n",
       "      <td>67328547.0</td>\n",
       "    </tr>\n",
       "    <tr>\n",
       "      <th>783</th>\n",
       "      <td>JPASSOCIAT</td>\n",
       "      <td>45823011.0</td>\n",
       "    </tr>\n",
       "    <tr>\n",
       "      <th>1547</th>\n",
       "      <td>SUZLON</td>\n",
       "      <td>28645270.0</td>\n",
       "    </tr>\n",
       "    <tr>\n",
       "      <th>1282</th>\n",
       "      <td>RCOM</td>\n",
       "      <td>23998485.0</td>\n",
       "    </tr>\n",
       "    <tr>\n",
       "      <th>1371</th>\n",
       "      <td>SBIN</td>\n",
       "      <td>21936647.0</td>\n",
       "    </tr>\n",
       "    <tr>\n",
       "      <th>1403</th>\n",
       "      <td>SHANKARA</td>\n",
       "      <td>20556468.0</td>\n",
       "    </tr>\n",
       "    <tr>\n",
       "      <th>1460</th>\n",
       "      <td>SOUTHBANK</td>\n",
       "      <td>19419091.0</td>\n",
       "    </tr>\n",
       "    <tr>\n",
       "      <th>642</th>\n",
       "      <td>IDEA</td>\n",
       "      <td>19204564.0</td>\n",
       "    </tr>\n",
       "    <tr>\n",
       "      <th>643</th>\n",
       "      <td>IDFC</td>\n",
       "      <td>19140138.0</td>\n",
       "    </tr>\n",
       "    <tr>\n",
       "      <th>1332</th>\n",
       "      <td>RTNINFRA</td>\n",
       "      <td>18248441.0</td>\n",
       "    </tr>\n",
       "  </tbody>\n",
       "</table>\n",
       "</div>"
      ],
      "text/plain": [
       "          symbol  totaltradeqty\n",
       "1662     UNITECH     67328547.0\n",
       "783   JPASSOCIAT     45823011.0\n",
       "1547      SUZLON     28645270.0\n",
       "1282        RCOM     23998485.0\n",
       "1371        SBIN     21936647.0\n",
       "1403    SHANKARA     20556468.0\n",
       "1460   SOUTHBANK     19419091.0\n",
       "642         IDEA     19204564.0\n",
       "643         IDFC     19140138.0\n",
       "1332    RTNINFRA     18248441.0"
      ]
     },
     "execution_count": 12,
     "metadata": {},
     "output_type": "execute_result"
    }
   ],
   "source": [
    "total_trade_df = total_trade_df.sort_values(by=['totaltradeqty'], ascending=False)\n",
    "total_trade_df.head(10)"
   ]
  }
 ],
 "metadata": {
  "kernelspec": {
   "display_name": "Python 2",
   "language": "python",
   "name": "python2"
  },
  "language_info": {
   "codemirror_mode": {
    "name": "ipython",
    "version": 2
   },
   "file_extension": ".py",
   "mimetype": "text/x-python",
   "name": "python",
   "nbconvert_exporter": "python",
   "pygments_lexer": "ipython2",
   "version": "2.7.12"
  }
 },
 "nbformat": 4,
 "nbformat_minor": 1
}
