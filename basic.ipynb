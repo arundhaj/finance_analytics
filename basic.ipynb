{
 "cells": [
  {
   "cell_type": "code",
   "execution_count": 1,
   "metadata": {
    "collapsed": true
   },
   "outputs": [],
   "source": [
    "import psycopg2 as pg\n",
    "import pandas as pd\n",
    "import matplotlib.pyplot as plt\n",
    "import seaborn as sns\n",
    "import yaml\n",
    "%matplotlib inline"
   ]
  },
  {
   "cell_type": "code",
   "execution_count": 2,
   "metadata": {
    "collapsed": true
   },
   "outputs": [],
   "source": [
    "stream = open('config.yaml', 'r')\n",
    "conf = yaml.load(stream)"
   ]
  },
  {
   "cell_type": "code",
   "execution_count": 3,
   "metadata": {},
   "outputs": [],
   "source": [
    "conn = pg.connect(host=conf['host'], database=conf['database'], user=conf['username'], password=conf['password'])"
   ]
  },
  {
   "cell_type": "markdown",
   "metadata": {},
   "source": [
    "## Trend of ICICIBANK"
   ]
  },
  {
   "cell_type": "code",
   "execution_count": 4,
   "metadata": {
    "collapsed": true
   },
   "outputs": [],
   "source": [
    "_ = (\"SELECT * FROM finance_app_nsestockquote \" \n",
    "        \"WHERE symbol = '{0}'\").format('ICICIBANK')\n",
    "\n",
    "df = pd.read_sql_query(_, conn)"
   ]
  },
  {
   "cell_type": "code",
   "execution_count": 5,
   "metadata": {},
   "outputs": [
    {
     "data": {
      "text/html": [
       "<div>\n",
       "<table border=\"1\" class=\"dataframe\">\n",
       "  <thead>\n",
       "    <tr style=\"text-align: right;\">\n",
       "      <th></th>\n",
       "      <th>id</th>\n",
       "      <th>symbol</th>\n",
       "      <th>scriptdate</th>\n",
       "      <th>series</th>\n",
       "      <th>open</th>\n",
       "      <th>high</th>\n",
       "      <th>low</th>\n",
       "      <th>close</th>\n",
       "      <th>totaltradeqty</th>\n",
       "      <th>totaltrades</th>\n",
       "      <th>isin</th>\n",
       "      <th>last</th>\n",
       "      <th>prevclose</th>\n",
       "      <th>totaltradevalue</th>\n",
       "    </tr>\n",
       "  </thead>\n",
       "  <tbody>\n",
       "    <tr>\n",
       "      <th>59</th>\n",
       "      <td>106383</td>\n",
       "      <td>ICICIBANK</td>\n",
       "      <td>2017-03-29 00:00:00+00:00</td>\n",
       "      <td>EQ</td>\n",
       "      <td>278.95</td>\n",
       "      <td>282.80</td>\n",
       "      <td>276.65</td>\n",
       "      <td>282.20</td>\n",
       "      <td>17191675.0</td>\n",
       "      <td>84577.0</td>\n",
       "      <td>INE090A01021</td>\n",
       "      <td>282.30</td>\n",
       "      <td>277.00</td>\n",
       "      <td>4.821411e+09</td>\n",
       "    </tr>\n",
       "    <tr>\n",
       "      <th>60</th>\n",
       "      <td>108133</td>\n",
       "      <td>ICICIBANK</td>\n",
       "      <td>2017-03-30 00:00:00+00:00</td>\n",
       "      <td>EQ</td>\n",
       "      <td>281.25</td>\n",
       "      <td>283.25</td>\n",
       "      <td>279.75</td>\n",
       "      <td>281.35</td>\n",
       "      <td>15039119.0</td>\n",
       "      <td>116354.0</td>\n",
       "      <td>INE090A01021</td>\n",
       "      <td>281.00</td>\n",
       "      <td>282.20</td>\n",
       "      <td>4.234769e+09</td>\n",
       "    </tr>\n",
       "    <tr>\n",
       "      <th>61</th>\n",
       "      <td>109861</td>\n",
       "      <td>ICICIBANK</td>\n",
       "      <td>2017-03-31 00:00:00+00:00</td>\n",
       "      <td>EQ</td>\n",
       "      <td>280.35</td>\n",
       "      <td>282.90</td>\n",
       "      <td>275.70</td>\n",
       "      <td>276.85</td>\n",
       "      <td>17947183.0</td>\n",
       "      <td>79199.0</td>\n",
       "      <td>INE090A01021</td>\n",
       "      <td>276.35</td>\n",
       "      <td>281.35</td>\n",
       "      <td>4.997959e+09</td>\n",
       "    </tr>\n",
       "    <tr>\n",
       "      <th>62</th>\n",
       "      <td>111595</td>\n",
       "      <td>ICICIBANK</td>\n",
       "      <td>2017-04-03 00:00:00+00:00</td>\n",
       "      <td>EQ</td>\n",
       "      <td>278.80</td>\n",
       "      <td>287.40</td>\n",
       "      <td>276.85</td>\n",
       "      <td>286.70</td>\n",
       "      <td>18590561.0</td>\n",
       "      <td>85754.0</td>\n",
       "      <td>INE090A01021</td>\n",
       "      <td>286.65</td>\n",
       "      <td>276.85</td>\n",
       "      <td>5.274436e+09</td>\n",
       "    </tr>\n",
       "    <tr>\n",
       "      <th>63</th>\n",
       "      <td>113364</td>\n",
       "      <td>ICICIBANK</td>\n",
       "      <td>2017-04-05 00:00:00+00:00</td>\n",
       "      <td>EQ</td>\n",
       "      <td>286.50</td>\n",
       "      <td>286.50</td>\n",
       "      <td>282.90</td>\n",
       "      <td>284.85</td>\n",
       "      <td>9608663.0</td>\n",
       "      <td>83961.0</td>\n",
       "      <td>INE090A01021</td>\n",
       "      <td>284.95</td>\n",
       "      <td>286.70</td>\n",
       "      <td>2.736061e+09</td>\n",
       "    </tr>\n",
       "  </tbody>\n",
       "</table>\n",
       "</div>"
      ],
      "text/plain": [
       "        id     symbol                scriptdate series    open    high  \\\n",
       "59  106383  ICICIBANK 2017-03-29 00:00:00+00:00     EQ  278.95  282.80   \n",
       "60  108133  ICICIBANK 2017-03-30 00:00:00+00:00     EQ  281.25  283.25   \n",
       "61  109861  ICICIBANK 2017-03-31 00:00:00+00:00     EQ  280.35  282.90   \n",
       "62  111595  ICICIBANK 2017-04-03 00:00:00+00:00     EQ  278.80  287.40   \n",
       "63  113364  ICICIBANK 2017-04-05 00:00:00+00:00     EQ  286.50  286.50   \n",
       "\n",
       "       low   close  totaltradeqty  totaltrades          isin    last  \\\n",
       "59  276.65  282.20     17191675.0      84577.0  INE090A01021  282.30   \n",
       "60  279.75  281.35     15039119.0     116354.0  INE090A01021  281.00   \n",
       "61  275.70  276.85     17947183.0      79199.0  INE090A01021  276.35   \n",
       "62  276.85  286.70     18590561.0      85754.0  INE090A01021  286.65   \n",
       "63  282.90  284.85      9608663.0      83961.0  INE090A01021  284.95   \n",
       "\n",
       "    prevclose  totaltradevalue  \n",
       "59     277.00     4.821411e+09  \n",
       "60     282.20     4.234769e+09  \n",
       "61     281.35     4.997959e+09  \n",
       "62     276.85     5.274436e+09  \n",
       "63     286.70     2.736061e+09  "
      ]
     },
     "execution_count": 5,
     "metadata": {},
     "output_type": "execute_result"
    }
   ],
   "source": [
    "df.tail()"
   ]
  },
  {
   "cell_type": "code",
   "execution_count": 6,
   "metadata": {},
   "outputs": [
    {
     "data": {
      "text/plain": [
       "[<matplotlib.lines.Line2D at 0x9c2cd30>]"
      ]
     },
     "execution_count": 6,
     "metadata": {},
     "output_type": "execute_result"
    },
    {
     "data": {
      "image/png": "[encoded data removed]",
      "text/plain": [
       "<matplotlib.figure.Figure at 0x9abf6a0>"
      ]
     },
     "metadata": {},
     "output_type": "display_data"
    }
   ],
   "source": [
    "plt.margins(0.2)\n",
    "plt.plot(df['scriptdate'], df['close'], marker='o') #, linestyle='none')"
   ]
  },
  {
   "cell_type": "code",
   "execution_count": 7,
   "metadata": {},
   "outputs": [
    {
     "data": {
      "text/plain": [
       "Index([u'id', u'symbol', u'scriptdate', u'series', u'open', u'high', u'low',\n",
       "       u'close', u'totaltradeqty', u'totaltrades', u'isin', u'last',\n",
       "       u'prevclose', u'totaltradevalue'],\n",
       "      dtype='object')"
      ]
     },
     "execution_count": 7,
     "metadata": {},
     "output_type": "execute_result"
    }
   ],
   "source": [
    "df.columns"
   ]
  },
  {
   "cell_type": "markdown",
   "metadata": {},
   "source": [
    "## Total trade quantity on 2017-04-05"
   ]
  },
  {
   "cell_type": "code",
   "execution_count": 8,
   "metadata": {},
   "outputs": [],
   "source": [
    "# cur.execute(\"insert into %s values (%s, %s)\", [table_name, 10, 20])\n",
    "_ = (\"SELECT symbol, totaltradeqty FROM finance_app_nsestockquote \" \n",
    "        \"WHERE scriptdate = '{0}'\").format('2017-04-05 00:00:00+00:00')\n",
    "\n",
    "df = pd.read_sql_query(_, conn)"
   ]
  },
  {
   "cell_type": "code",
   "execution_count": 9,
   "metadata": {},
   "outputs": [
    {
     "data": {
      "text/html": [
       "<div>\n",
       "<table border=\"1\" class=\"dataframe\">\n",
       "  <thead>\n",
       "    <tr style=\"text-align: right;\">\n",
       "      <th></th>\n",
       "      <th>totaltradeqty</th>\n",
       "    </tr>\n",
       "  </thead>\n",
       "  <tbody>\n",
       "    <tr>\n",
       "      <th>count</th>\n",
       "      <td>1.766000e+03</td>\n",
       "    </tr>\n",
       "    <tr>\n",
       "      <th>mean</th>\n",
       "      <td>8.630471e+05</td>\n",
       "    </tr>\n",
       "    <tr>\n",
       "      <th>std</th>\n",
       "      <td>2.935251e+06</td>\n",
       "    </tr>\n",
       "    <tr>\n",
       "      <th>min</th>\n",
       "      <td>1.000000e+00</td>\n",
       "    </tr>\n",
       "    <tr>\n",
       "      <th>25%</th>\n",
       "      <td>1.260100e+04</td>\n",
       "    </tr>\n",
       "    <tr>\n",
       "      <th>50%</th>\n",
       "      <td>9.140900e+04</td>\n",
       "    </tr>\n",
       "    <tr>\n",
       "      <th>75%</th>\n",
       "      <td>5.121892e+05</td>\n",
       "    </tr>\n",
       "    <tr>\n",
       "      <th>max</th>\n",
       "      <td>6.732855e+07</td>\n",
       "    </tr>\n",
       "  </tbody>\n",
       "</table>\n",
       "</div>"
      ],
      "text/plain": [
       "       totaltradeqty\n",
       "count   1.766000e+03\n",
       "mean    8.630471e+05\n",
       "std     2.935251e+06\n",
       "min     1.000000e+00\n",
       "25%     1.260100e+04\n",
       "50%     9.140900e+04\n",
       "75%     5.121892e+05\n",
       "max     6.732855e+07"
      ]
     },
     "execution_count": 9,
     "metadata": {},
     "output_type": "execute_result"
    }
   ],
   "source": [
    "df.describe()"
   ]
  },
  {
   "cell_type": "code",
   "execution_count": 10,
   "metadata": {},
   "outputs": [
    {
     "data": {
      "text/html": [
       "<div>\n",
       "<table border=\"1\" class=\"dataframe\">\n",
       "  <thead>\n",
       "    <tr style=\"text-align: right;\">\n",
       "      <th></th>\n",
       "      <th>symbol</th>\n",
       "      <th>totaltradeqty</th>\n",
       "    </tr>\n",
       "  </thead>\n",
       "  <tbody>\n",
       "    <tr>\n",
       "      <th>1662</th>\n",
       "      <td>UNITECH</td>\n",
       "      <td>67328547.0</td>\n",
       "    </tr>\n",
       "    <tr>\n",
       "      <th>783</th>\n",
       "      <td>JPASSOCIAT</td>\n",
       "      <td>45823011.0</td>\n",
       "    </tr>\n",
       "    <tr>\n",
       "      <th>1547</th>\n",
       "      <td>SUZLON</td>\n",
       "      <td>28645270.0</td>\n",
       "    </tr>\n",
       "    <tr>\n",
       "      <th>1282</th>\n",
       "      <td>RCOM</td>\n",
       "      <td>23998485.0</td>\n",
       "    </tr>\n",
       "    <tr>\n",
       "      <th>1371</th>\n",
       "      <td>SBIN</td>\n",
       "      <td>21936647.0</td>\n",
       "    </tr>\n",
       "  </tbody>\n",
       "</table>\n",
       "</div>"
      ],
      "text/plain": [
       "          symbol  totaltradeqty\n",
       "1662     UNITECH     67328547.0\n",
       "783   JPASSOCIAT     45823011.0\n",
       "1547      SUZLON     28645270.0\n",
       "1282        RCOM     23998485.0\n",
       "1371        SBIN     21936647.0"
      ]
     },
     "execution_count": 10,
     "metadata": {},
     "output_type": "execute_result"
    }
   ],
   "source": [
    "df = df.sort_values(by=['totaltradeqty'], ascending=False)\n",
    "df.head()"
   ]
  }
 ],
 "metadata": {
  "kernelspec": {
   "display_name": "Python 2",
   "language": "python",
   "name": "python2"
  },
  "language_info": {
   "codemirror_mode": {
    "name": "ipython",
    "version": 2
   },
   "file_extension": ".py",
   "mimetype": "text/x-python",
   "name": "python",
   "nbconvert_exporter": "python",
   "pygments_lexer": "ipython2",
   "version": "2.7.12"
  }
 },
 "nbformat": 4,
 "nbformat_minor": 1
}
